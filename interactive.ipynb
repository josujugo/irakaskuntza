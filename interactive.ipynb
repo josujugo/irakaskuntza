{
 "cells": [
  {
   "cell_type": "code",
   "execution_count": 46,
   "metadata": {},
   "outputs": [],
   "source": [
    "import warnings\n",
    "warnings.filterwarnings(\"ignore\")\n",
    "import control as c\n",
    "import matplotlib.pyplot as plt\n",
    "import matplotlib as mpl\n",
    "import scipy as sp\n",
    "import plotly.offline as py\n",
    "from ipywidgets import interact\n",
    "s=c.tf([1,0],1)"
   ]
  },
  {
   "cell_type": "code",
   "execution_count": 115,
   "metadata": {},
   "outputs": [],
   "source": [
    "a=2;b=10;g1=(s+5)/(s+a)/(s**2+s+b)\n",
    "c.rlocus(g1)        \n",
    "f=plt.gcf();\n",
    "fig1=plotly.tools.mpl_to_plotly(f)"
   ]
  },
  {
   "cell_type": "code",
   "execution_count": 174,
   "metadata": {},
   "outputs": [
    {
     "data": {
      "application/vnd.jupyter.widget-view+json": {
       "model_id": "93b341853a994caf952d6647685ba5ce",
       "version_major": 2,
       "version_minor": 0
      },
      "text/plain": [
       "interactive(children=(FloatSlider(value=3.6, description='a', max=4.0, min=1.0, step=0.01), FloatSlider(value=…"
      ]
     },
     "metadata": {},
     "output_type": "display_data"
    }
   ],
   "source": [
    "@interact(a=(1.0, 4.0, 0.01), b=(0, 50.0, 0.01), color=['red', 'green', 'blue'])\n",
    "def update(a=3.6, b=4.3, color='blue'):\n",
    "    color1=['red', 'green', 'blue','yellow','cyan']\n",
    "    #with fig.batch_update():\n",
    "    g1=(s+20)**2*(s+5)/(s+a)/(s**2+s+b)/(s+8)\n",
    "    c.rlocus(g1)#,kvect=sp.linspace(0,120,200))        \n",
    "    f=plt.gcf();\n",
    "    fig1=plotly.tools.mpl_to_plotly(f)\n",
    "    ij=0\n",
    "    for ii in fig1['data'][2:]:\n",
    "        ii.line.color=color1[ij]\n",
    "        ij=ij+1\n",
    "    #print(fig1['data'][0])\n",
    "    py.iplot(fig1)    "
   ]
  },
  {
   "cell_type": "code",
   "execution_count": 170,
   "metadata": {},
   "outputs": [],
   "source": [
    "data=[]\n",
    "import matplotlib as mpl\n",
    "mpl.rcParams['figure.figsize'] = (8,6)"
   ]
  },
  {
   "cell_type": "code",
   "execution_count": 171,
   "metadata": {},
   "outputs": [
    {
     "data": {
      "application/vnd.jupyter.widget-view+json": {
       "model_id": "b2098328dd14459295943fe9e8feec08",
       "version_major": 2,
       "version_minor": 0
      },
      "text/plain": [
       "interactive(children=(FloatSlider(value=3.6, description='a', max=4.0, min=1.0, step=0.01), FloatSlider(value=…"
      ]
     },
     "metadata": {},
     "output_type": "display_data"
    }
   ],
   "source": [
    "@interact(a=(1.0, 4.0, 0.01), b=(0, 10.0, 0.01), color=['red', 'green', 'blue'])\n",
    "def update(a=3.6, b=4.3, color='blue'):\n",
    "    global data\n",
    "    #with fig.batch_update():\n",
    "    g1=(s+5)/(s+a)/(s**2+s+b)\n",
    "    data=c.rlocus(g1)        \n",
    "    f=plt.gcf();\n",
    "    fig1=plotly.tools.mpl_to_plotly(f)\n",
    "    ij=0\n",
    "    for ii in fig1['data'][2:]:\n",
    "        ii.y=data[0][:,ij].imag\n",
    "        ii.x=data[0][:,ij].real\n",
    "        ii.hovertext=data[1]\n",
    "        ii.line.color=color\n",
    "        ij=ij+1\n",
    "    #print(fig1['data'][0])\n",
    "    py.iplot(fig1)  "
   ]
  },
  {
   "cell_type": "code",
   "execution_count": 173,
   "metadata": {},
   "outputs": [
    {
     "data": {
      "application/vnd.jupyter.widget-view+json": {
       "model_id": "77a053714eac4c0384b4418bb7610864",
       "version_major": 2,
       "version_minor": 0
      },
      "text/plain": [
       "interactive(children=(FloatSlider(value=3.6, description='a', max=4.0, min=1.0, step=0.01), FloatSlider(value=…"
      ]
     },
     "metadata": {},
     "output_type": "display_data"
    }
   ],
   "source": [
    "a=1\n",
    "g1=(s+5)/(s+a)/(s**2+s+50)\n",
    "t,y=c.step_response(g1)\n",
    "plt.plot(t,y)\n",
    "f=plt.gcf();\n",
    "fig=plotly.tools.mpl_to_plotly(f)\n",
    "#py.iplot(fig)\n",
    "fig.layout.yaxis.autorange=True\n",
    "@interact(a=(1.0, 4.0, 0.01), b=(0, 50.0, 0.002), color=['red', 'green', 'blue'])\n",
    "def update(a=3.6, b=4.3, color='blue'):\n",
    "    with fig.batch_update():\n",
    "        g1=(s+5)/(s+a)/(s**2+s+b)\n",
    "        t,y=c.step_response(g1)\n",
    "        fig['data'][0]['y']=y\n",
    "        fig['data'][0]['x']=t\n",
    "        fig['data'][0].line.color=color\n",
    "    py.iplot(fig)\n"
   ]
  },
  {
   "cell_type": "code",
   "execution_count": null,
   "metadata": {},
   "outputs": [],
   "source": []
  }
 ],
 "metadata": {
  "kernelspec": {
   "display_name": "Python 3",
   "language": "python",
   "name": "python3"
  },
  "language_info": {
   "codemirror_mode": {
    "name": "ipython",
    "version": 3
   },
   "file_extension": ".py",
   "mimetype": "text/x-python",
   "name": "python",
   "nbconvert_exporter": "python",
   "pygments_lexer": "ipython3",
   "version": "3.7.3"
  }
 },
 "nbformat": 4,
 "nbformat_minor": 2
}
